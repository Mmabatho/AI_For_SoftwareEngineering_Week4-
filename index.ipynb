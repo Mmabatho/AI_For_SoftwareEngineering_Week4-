{
 "cells": [
  {
   "cell_type": "code",
   "execution_count": 1,
   "id": "8356f7a3",
   "metadata": {
    "_cell_guid": "b1076dfc-b9ad-4769-8c92-a6c4dae69d19",
    "_uuid": "8f2839f25d086af736a60e9eeb907d3b93b6e0e5",
    "execution": {
     "iopub.execute_input": "2025-06-19T21:52:07.556379Z",
     "iopub.status.busy": "2025-06-19T21:52:07.555645Z",
     "iopub.status.idle": "2025-06-19T21:52:11.518039Z",
     "shell.execute_reply": "2025-06-19T21:52:11.517244Z"
    },
    "papermill": {
     "duration": 3.968066,
     "end_time": "2025-06-19T21:52:11.519276",
     "exception": false,
     "start_time": "2025-06-19T21:52:07.551210",
     "status": "completed"
    },
    "tags": []
   },
   "outputs": [
    {
     "name": "stdout",
     "output_type": "stream",
     "text": [
      "PREDICTIVE ANALYTICS FOR RESOURCE ALLOCATION ===\n",
      "Dataset: Breast Cancer Dataset\n",
      "Goal: Predict resource allocation priority based on diagnostic features\n",
      "\n"
     ]
    }
   ],
   "source": [
    "# Kaggle Notebook: Predictive Analytics for Resource Allocation\n",
    "# Breast Cancer Dataset Analysis\n",
    "\n",
    "import pandas as pd\n",
    "import numpy as np\n",
    "import matplotlib.pyplot as plt\n",
    "import seaborn as sns\n",
    "from sklearn.datasets import load_breast_cancer\n",
    "from sklearn.model_selection import train_test_split\n",
    "from sklearn.ensemble import RandomForestClassifier, GradientBoostingClassifier\n",
    "from sklearn.svm import SVC\n",
    "from sklearn.model_selection import cross_val_score\n",
    "from sklearn.linear_model import LogisticRegression\n",
    "from sklearn.preprocessing import StandardScaler, LabelEncoder\n",
    "from sklearn.metrics import accuracy_score, f1_score, classification_report, confusion_matrix\n",
    "from sklearn.metrics import precision_recall_fscore_support\n",
    "import warnings\n",
    "warnings.filterwarnings('ignore')\n",
    "\n",
    "print(\"PREDICTIVE ANALYTICS FOR RESOURCE ALLOCATION ===\")\n",
    "print(\"Dataset: Breast Cancer Dataset\")\n",
    "print(\"Goal: Predict resource allocation priority based on diagnostic features\\n\")\n",
    "\n"
   ]
  },
  {
   "cell_type": "code",
   "execution_count": 2,
   "id": "a59d177a",
   "metadata": {
    "execution": {
     "iopub.execute_input": "2025-06-19T21:52:11.526107Z",
     "iopub.status.busy": "2025-06-19T21:52:11.525606Z",
     "iopub.status.idle": "2025-06-19T21:52:11.528926Z",
     "shell.execute_reply": "2025-06-19T21:52:11.528230Z"
    },
    "papermill": {
     "duration": 0.007646,
     "end_time": "2025-06-19T21:52:11.530010",
     "exception": false,
     "start_time": "2025-06-19T21:52:11.522364",
     "status": "completed"
    },
    "tags": []
   },
   "outputs": [],
   "source": [
    "# ============================================================================\n",
    "# 1. DATA LOADING AND EXPLORATION\n",
    "# ============================================================================"
   ]
  },
  {
   "cell_type": "code",
   "execution_count": 3,
   "id": "d8ed7c20",
   "metadata": {
    "execution": {
     "iopub.execute_input": "2025-06-19T21:52:11.536665Z",
     "iopub.status.busy": "2025-06-19T21:52:11.536130Z",
     "iopub.status.idle": "2025-06-19T21:52:11.594454Z",
     "shell.execute_reply": "2025-06-19T21:52:11.593682Z"
    },
    "papermill": {
     "duration": 0.062991,
     "end_time": "2025-06-19T21:52:11.595834",
     "exception": false,
     "start_time": "2025-06-19T21:52:11.532843",
     "status": "completed"
    },
    "tags": []
   },
   "outputs": [
    {
     "name": "stdout",
     "output_type": "stream",
     "text": [
      "1. LOADING AND EXPLORING DATA\n",
      "--------------------------------------------------\n",
      "Dataset shape: (569, 31)\n",
      "Features: 30\n",
      "Target classes: ['malignant' 'benign']\n",
      "\n",
      "First few rows:\n",
      "   mean radius  mean texture  mean perimeter  mean area  mean smoothness  \\\n",
      "0        17.99         10.38          122.80     1001.0          0.11840   \n",
      "1        20.57         17.77          132.90     1326.0          0.08474   \n",
      "2        19.69         21.25          130.00     1203.0          0.10960   \n",
      "3        11.42         20.38           77.58      386.1          0.14250   \n",
      "4        20.29         14.34          135.10     1297.0          0.10030   \n",
      "\n",
      "   mean compactness  mean concavity  mean concave points  mean symmetry  \\\n",
      "0           0.27760          0.3001              0.14710         0.2419   \n",
      "1           0.07864          0.0869              0.07017         0.1812   \n",
      "2           0.15990          0.1974              0.12790         0.2069   \n",
      "3           0.28390          0.2414              0.10520         0.2597   \n",
      "4           0.13280          0.1980              0.10430         0.1809   \n",
      "\n",
      "   mean fractal dimension  ...  worst texture  worst perimeter  worst area  \\\n",
      "0                 0.07871  ...          17.33           184.60      2019.0   \n",
      "1                 0.05667  ...          23.41           158.80      1956.0   \n",
      "2                 0.05999  ...          25.53           152.50      1709.0   \n",
      "3                 0.09744  ...          26.50            98.87       567.7   \n",
      "4                 0.05883  ...          16.67           152.20      1575.0   \n",
      "\n",
      "   worst smoothness  worst compactness  worst concavity  worst concave points  \\\n",
      "0            0.1622             0.6656           0.7119                0.2654   \n",
      "1            0.1238             0.1866           0.2416                0.1860   \n",
      "2            0.1444             0.4245           0.4504                0.2430   \n",
      "3            0.2098             0.8663           0.6869                0.2575   \n",
      "4            0.1374             0.2050           0.4000                0.1625   \n",
      "\n",
      "   worst symmetry  worst fractal dimension  diagnosis  \n",
      "0          0.4601                  0.11890          0  \n",
      "1          0.2750                  0.08902          0  \n",
      "2          0.3613                  0.08758          0  \n",
      "3          0.6638                  0.17300          0  \n",
      "4          0.2364                  0.07678          0  \n",
      "\n",
      "[5 rows x 31 columns]\n",
      "\n",
      "Dataset Info:\n",
      "<class 'pandas.core.frame.DataFrame'>\n",
      "RangeIndex: 569 entries, 0 to 568\n",
      "Data columns (total 31 columns):\n",
      " #   Column                   Non-Null Count  Dtype  \n",
      "---  ------                   --------------  -----  \n",
      " 0   mean radius              569 non-null    float64\n",
      " 1   mean texture             569 non-null    float64\n",
      " 2   mean perimeter           569 non-null    float64\n",
      " 3   mean area                569 non-null    float64\n",
      " 4   mean smoothness          569 non-null    float64\n",
      " 5   mean compactness         569 non-null    float64\n",
      " 6   mean concavity           569 non-null    float64\n",
      " 7   mean concave points      569 non-null    float64\n",
      " 8   mean symmetry            569 non-null    float64\n",
      " 9   mean fractal dimension   569 non-null    float64\n",
      " 10  radius error             569 non-null    float64\n",
      " 11  texture error            569 non-null    float64\n",
      " 12  perimeter error          569 non-null    float64\n",
      " 13  area error               569 non-null    float64\n",
      " 14  smoothness error         569 non-null    float64\n",
      " 15  compactness error        569 non-null    float64\n",
      " 16  concavity error          569 non-null    float64\n",
      " 17  concave points error     569 non-null    float64\n",
      " 18  symmetry error           569 non-null    float64\n",
      " 19  fractal dimension error  569 non-null    float64\n",
      " 20  worst radius             569 non-null    float64\n",
      " 21  worst texture            569 non-null    float64\n",
      " 22  worst perimeter          569 non-null    float64\n",
      " 23  worst area               569 non-null    float64\n",
      " 24  worst smoothness         569 non-null    float64\n",
      " 25  worst compactness        569 non-null    float64\n",
      " 26  worst concavity          569 non-null    float64\n",
      " 27  worst concave points     569 non-null    float64\n",
      " 28  worst symmetry           569 non-null    float64\n",
      " 29  worst fractal dimension  569 non-null    float64\n",
      " 30  diagnosis                569 non-null    int64  \n",
      "dtypes: float64(30), int64(1)\n",
      "memory usage: 137.9 KB\n",
      "None\n",
      "\n",
      "Missing values:\n",
      "0\n",
      "\n",
      "Target distribution:\n",
      "diagnosis\n",
      "1    357\n",
      "0    212\n",
      "Name: count, dtype: int64\n"
     ]
    }
   ],
   "source": [
    "print(\"1. LOADING AND EXPLORING DATA\")\n",
    "print(\"-\" * 50)\n",
    "\n",
    "# Load the breast cancer dataset\n",
    "data = load_breast_cancer()\n",
    "df = pd.DataFrame(data.data, columns=data.feature_names)\n",
    "df['diagnosis'] = data.target\n",
    "\n",
    "print(f\"Dataset shape: {df.shape}\")\n",
    "print(f\"Features: {len(data.feature_names)}\")\n",
    "print(f\"Target classes: {data.target_names}\")\n",
    "print(\"\\nFirst few rows:\")\n",
    "print(df.head())\n",
    "\n",
    "print(\"\\nDataset Info:\")\n",
    "print(df.info())\n",
    "\n",
    "print(\"\\nMissing values:\")\n",
    "print(df.isnull().sum().sum())\n",
    "\n",
    "print(\"\\nTarget distribution:\")\n",
    "print(df['diagnosis'].value_counts())"
   ]
  },
  {
   "cell_type": "code",
   "execution_count": 4,
   "id": "5dde8370",
   "metadata": {
    "execution": {
     "iopub.execute_input": "2025-06-19T21:52:11.602892Z",
     "iopub.status.busy": "2025-06-19T21:52:11.602646Z",
     "iopub.status.idle": "2025-06-19T21:52:11.605895Z",
     "shell.execute_reply": "2025-06-19T21:52:11.605185Z"
    },
    "papermill": {
     "duration": 0.007928,
     "end_time": "2025-06-19T21:52:11.607040",
     "exception": false,
     "start_time": "2025-06-19T21:52:11.599112",
     "status": "completed"
    },
    "tags": []
   },
   "outputs": [],
   "source": [
    "# ============================================================================\n",
    "# 2. DATA PREPROCESSING\n",
    "# ============================================================================\n"
   ]
  },
  {
   "cell_type": "code",
   "execution_count": 5,
   "id": "bf0a2cd6",
   "metadata": {
    "execution": {
     "iopub.execute_input": "2025-06-19T21:52:11.613638Z",
     "iopub.status.busy": "2025-06-19T21:52:11.613105Z",
     "iopub.status.idle": "2025-06-19T21:52:12.006991Z",
     "shell.execute_reply": "2025-06-19T21:52:12.005979Z"
    },
    "papermill": {
     "duration": 0.398632,
     "end_time": "2025-06-19T21:52:12.008409",
     "exception": false,
     "start_time": "2025-06-19T21:52:11.609777",
     "status": "completed"
    },
    "tags": []
   },
   "outputs": [
    {
     "name": "stdout",
     "output_type": "stream",
     "text": [
      "\n",
      "2. DATA PREPROCESSING\n",
      "--------------------------------------------------\n",
      "Priority distribution:\n",
      "priority\n",
      "Low       353\n",
      "High      113\n",
      "Medium    103\n",
      "Name: count, dtype: int64\n",
      "\n",
      "Priority encoding: {'High': 0, 'Low': 1, 'Medium': 2}\n",
      "\n",
      "Features selected: 10\n",
      "Feature statistics:\n",
      "       mean radius  mean texture  mean perimeter    mean area  \\\n",
      "count   569.000000    569.000000      569.000000   569.000000   \n",
      "mean     14.127292     19.289649       91.969033   654.889104   \n",
      "std       3.524049      4.301036       24.298981   351.914129   \n",
      "min       6.981000      9.710000       43.790000   143.500000   \n",
      "25%      11.700000     16.170000       75.170000   420.300000   \n",
      "50%      13.370000     18.840000       86.240000   551.100000   \n",
      "75%      15.780000     21.800000      104.100000   782.700000   \n",
      "max      28.110000     39.280000      188.500000  2501.000000   \n",
      "\n",
      "       mean smoothness  mean compactness  mean concavity  mean concave points  \\\n",
      "count       569.000000        569.000000      569.000000           569.000000   \n",
      "mean          0.096360          0.104341        0.088799             0.048919   \n",
      "std           0.014064          0.052813        0.079720             0.038803   \n",
      "min           0.052630          0.019380        0.000000             0.000000   \n",
      "25%           0.086370          0.064920        0.029560             0.020310   \n",
      "50%           0.095870          0.092630        0.061540             0.033500   \n",
      "75%           0.105300          0.130400        0.130700             0.074000   \n",
      "max           0.163400          0.345400        0.426800             0.201200   \n",
      "\n",
      "       mean symmetry  mean fractal dimension  \n",
      "count     569.000000              569.000000  \n",
      "mean        0.181162                0.062798  \n",
      "std         0.027414                0.007060  \n",
      "min         0.106000                0.049960  \n",
      "25%         0.161900                0.057700  \n",
      "50%         0.179200                0.061540  \n",
      "75%         0.195700                0.066120  \n",
      "max         0.304000                0.097440  \n"
     ]
    }
   ],
   "source": [
    "print(\"\\n2. DATA PREPROCESSING\")\n",
    "print(\"-\" * 50)\n",
    "\n",
    "# Create priority labels based on diagnosis and feature severity\n",
    "# We'll use mean radius, mean texture, and mean perimeter to determine priority\n",
    "def assign_priority(row):\n",
    "    \"\"\"\n",
    "    Assign priority based on diagnosis and severity indicators\n",
    "    High: Malignant cases with high severity indicators\n",
    "    Medium: Malignant cases with moderate severity or Benign with high indicators\n",
    "    Low: Benign cases with low severity indicators\n",
    "    \"\"\"\n",
    "    diagnosis = row['diagnosis']  # 0 = malignant, 1 = benign\n",
    "    mean_radius = row['mean radius']\n",
    "    mean_texture = row['mean texture']\n",
    "    mean_perimeter = row['mean perimeter']\n",
    "    \n",
    "    # Calculate severity score (normalized)\n",
    "    severity_score = (mean_radius + mean_texture + mean_perimeter) / 3\n",
    "    \n",
    "    if diagnosis == 0:  # Malignant\n",
    "        if severity_score > df[['mean radius', 'mean texture', 'mean perimeter']].mean().mean() * 1.2:\n",
    "            return 'High'\n",
    "        else:\n",
    "            return 'Medium'\n",
    "    else:  # Benign\n",
    "        if severity_score > df[['mean radius', 'mean texture', 'mean perimeter']].mean().mean() * 1.1:\n",
    "            return 'Medium'\n",
    "        else:\n",
    "            return 'Low'\n",
    "\n",
    "# Apply priority assignment\n",
    "df['priority'] = df.apply(assign_priority, axis=1)\n",
    "\n",
    "print(\"Priority distribution:\")\n",
    "print(df['priority'].value_counts())\n",
    "\n",
    "# Encode priority labels\n",
    "label_encoder = LabelEncoder()\n",
    "df['priority_encoded'] = label_encoder.fit_transform(df['priority'])\n",
    "priority_mapping = dict(zip(label_encoder.classes_, label_encoder.transform(label_encoder.classes_)))\n",
    "print(f\"\\nPriority encoding: {priority_mapping}\")\n",
    "\n",
    "# Select features for modeling (top 10 most important features)\n",
    "feature_cols = [\n",
    "    'mean radius', 'mean texture', 'mean perimeter', 'mean area',\n",
    "    'mean smoothness', 'mean compactness', 'mean concavity',\n",
    "    'mean concave points', 'mean symmetry', 'mean fractal dimension'\n",
    "]\n",
    "\n",
    "X = df[feature_cols]\n",
    "y = df['priority_encoded']\n",
    "\n",
    "print(f\"\\nFeatures selected: {len(feature_cols)}\")\n",
    "print(\"Feature statistics:\")\n",
    "print(X.describe())\n"
   ]
  },
  {
   "cell_type": "code",
   "execution_count": 6,
   "id": "b90e8bdb",
   "metadata": {
    "execution": {
     "iopub.execute_input": "2025-06-19T21:52:12.015435Z",
     "iopub.status.busy": "2025-06-19T21:52:12.015188Z",
     "iopub.status.idle": "2025-06-19T21:52:12.018248Z",
     "shell.execute_reply": "2025-06-19T21:52:12.017725Z"
    },
    "papermill": {
     "duration": 0.007667,
     "end_time": "2025-06-19T21:52:12.019255",
     "exception": false,
     "start_time": "2025-06-19T21:52:12.011588",
     "status": "completed"
    },
    "tags": []
   },
   "outputs": [],
   "source": [
    "# ============================================================================\n",
    "# 3. DATA SPLITTING AND SCALING\n",
    "# ============================================================================"
   ]
  },
  {
   "cell_type": "code",
   "execution_count": 7,
   "id": "288612d0",
   "metadata": {
    "execution": {
     "iopub.execute_input": "2025-06-19T21:52:12.025836Z",
     "iopub.status.busy": "2025-06-19T21:52:12.025595Z",
     "iopub.status.idle": "2025-06-19T21:52:12.036569Z",
     "shell.execute_reply": "2025-06-19T21:52:12.035793Z"
    },
    "papermill": {
     "duration": 0.015433,
     "end_time": "2025-06-19T21:52:12.037632",
     "exception": false,
     "start_time": "2025-06-19T21:52:12.022199",
     "status": "completed"
    },
    "tags": []
   },
   "outputs": [
    {
     "name": "stdout",
     "output_type": "stream",
     "text": [
      "\n",
      "3. DATA SPLITTING AND SCALING\n",
      "--------------------------------------------------\n",
      "Training set size: 455\n",
      "Test set size: 114\n",
      "Data scaling completed\n"
     ]
    }
   ],
   "source": [
    "print(\"\\n3. DATA SPLITTING AND SCALING\")\n",
    "print(\"-\" * 50)\n",
    "\n",
    "# Split the data\n",
    "X_train, X_test, y_train, y_test = train_test_split(\n",
    "    X, y, test_size=0.2, random_state=42, stratify=y\n",
    ")\n",
    "\n",
    "print(f\"Training set size: {X_train.shape[0]}\")\n",
    "print(f\"Test set size: {X_test.shape[0]}\")\n",
    "\n",
    "# Scale the features\n",
    "scaler = StandardScaler()\n",
    "X_train_scaled = scaler.fit_transform(X_train)\n",
    "X_test_scaled = scaler.transform(X_test)\n",
    "\n",
    "print(\"Data scaling completed\")"
   ]
  },
  {
   "cell_type": "code",
   "execution_count": 8,
   "id": "dc1acce5",
   "metadata": {
    "execution": {
     "iopub.execute_input": "2025-06-19T21:52:12.044555Z",
     "iopub.status.busy": "2025-06-19T21:52:12.044302Z",
     "iopub.status.idle": "2025-06-19T21:52:12.047446Z",
     "shell.execute_reply": "2025-06-19T21:52:12.046926Z"
    },
    "papermill": {
     "duration": 0.00768,
     "end_time": "2025-06-19T21:52:12.048392",
     "exception": false,
     "start_time": "2025-06-19T21:52:12.040712",
     "status": "completed"
    },
    "tags": []
   },
   "outputs": [],
   "source": [
    "# ============================================================================\n",
    "# 4. MODEL TRAINING\n",
    "# ============================================================================"
   ]
  },
  {
   "cell_type": "code",
   "execution_count": 9,
   "id": "d1b386e8",
   "metadata": {
    "execution": {
     "iopub.execute_input": "2025-06-19T21:52:12.055306Z",
     "iopub.status.busy": "2025-06-19T21:52:12.054682Z",
     "iopub.status.idle": "2025-06-19T21:52:12.225782Z",
     "shell.execute_reply": "2025-06-19T21:52:12.224984Z"
    },
    "papermill": {
     "duration": 0.175631,
     "end_time": "2025-06-19T21:52:12.227006",
     "exception": false,
     "start_time": "2025-06-19T21:52:12.051375",
     "status": "completed"
    },
    "tags": []
   },
   "outputs": [
    {
     "name": "stdout",
     "output_type": "stream",
     "text": [
      "\n",
      "4. MODEL TRAINING\n",
      "--------------------------------------------------\n",
      "Training Random Forest model...\n",
      "Model training completed\n",
      "\n",
      "Top 5 most important features:\n",
      "               feature  importance\n",
      "7  mean concave points    0.224546\n",
      "3            mean area    0.196161\n",
      "2       mean perimeter    0.189854\n",
      "0          mean radius    0.158030\n",
      "6       mean concavity    0.092350\n"
     ]
    }
   ],
   "source": [
    "print(\"\\n4. MODEL TRAINING\")\n",
    "print(\"-\" * 50)\n",
    "\n",
    "# Train Random Forest model\n",
    "rf_model = RandomForestClassifier(\n",
    "    n_estimators=100,\n",
    "    random_state=42,\n",
    "    max_depth=10,\n",
    "    min_samples_split=5,\n",
    "    min_samples_leaf=2\n",
    ")\n",
    "\n",
    "print(\"Training Random Forest model...\")\n",
    "rf_model.fit(X_train_scaled, y_train)\n",
    "print(\"Model training completed\")\n",
    "\n",
    "# Feature importance\n",
    "feature_importance = pd.DataFrame({\n",
    "    'feature': feature_cols,\n",
    "    'importance': rf_model.feature_importances_\n",
    "}).sort_values('importance', ascending=False)\n",
    "\n",
    "print(\"\\nTop 5 most important features:\")\n",
    "print(feature_importance.head())"
   ]
  },
  {
   "cell_type": "code",
   "execution_count": 10,
   "id": "afb6e933",
   "metadata": {
    "execution": {
     "iopub.execute_input": "2025-06-19T21:52:12.234009Z",
     "iopub.status.busy": "2025-06-19T21:52:12.233735Z",
     "iopub.status.idle": "2025-06-19T21:52:12.236535Z",
     "shell.execute_reply": "2025-06-19T21:52:12.236039Z"
    },
    "papermill": {
     "duration": 0.007245,
     "end_time": "2025-06-19T21:52:12.237489",
     "exception": false,
     "start_time": "2025-06-19T21:52:12.230244",
     "status": "completed"
    },
    "tags": []
   },
   "outputs": [],
   "source": [
    "# ============================================================================\n",
    "# 5. MODEL EVALUATION\n",
    "# ============================================================================"
   ]
  },
  {
   "cell_type": "code",
   "execution_count": 11,
   "id": "f588f0b4",
   "metadata": {
    "execution": {
     "iopub.execute_input": "2025-06-19T21:52:12.243978Z",
     "iopub.status.busy": "2025-06-19T21:52:12.243746Z",
     "iopub.status.idle": "2025-06-19T21:52:12.268822Z",
     "shell.execute_reply": "2025-06-19T21:52:12.267893Z"
    },
    "papermill": {
     "duration": 0.029736,
     "end_time": "2025-06-19T21:52:12.270125",
     "exception": false,
     "start_time": "2025-06-19T21:52:12.240389",
     "status": "completed"
    },
    "tags": []
   },
   "outputs": [
    {
     "name": "stdout",
     "output_type": "stream",
     "text": [
      "\n",
      "5. MODEL EVALUATION\n",
      "--------------------------------------------------\n",
      "Accuracy: 0.9123\n",
      "F1-Score (Macro): 0.8920\n",
      "F1-Score (Weighted): 0.9140\n",
      "\n",
      "Detailed Classification Report:\n",
      "              precision    recall  f1-score   support\n",
      "\n",
      "        High       1.00      0.96      0.98        23\n",
      "         Low       0.94      0.93      0.94        71\n",
      "      Medium       0.73      0.80      0.76        20\n",
      "\n",
      "    accuracy                           0.91       114\n",
      "   macro avg       0.89      0.90      0.89       114\n",
      "weighted avg       0.92      0.91      0.91       114\n",
      "\n",
      "\n",
      "Confusion Matrix:\n",
      "[[22  0  1]\n",
      " [ 0 66  5]\n",
      " [ 0  4 16]]\n",
      "\n",
      "Per-class Performance Metrics:\n",
      "  Priority  Precision    Recall  F1-Score  Support\n",
      "0     High   1.000000  0.956522  0.977778       23\n",
      "1      Low   0.942857  0.929577  0.936170       71\n",
      "2   Medium   0.727273  0.800000  0.761905       20\n"
     ]
    }
   ],
   "source": [
    "print(\"\\n5. MODEL EVALUATION\")\n",
    "print(\"-\" * 50)\n",
    "\n",
    "# Make predictions\n",
    "y_pred = rf_model.predict(X_test_scaled)\n",
    "\n",
    "# Calculate metrics\n",
    "accuracy = accuracy_score(y_test, y_pred)\n",
    "f1_macro = f1_score(y_test, y_pred, average='macro')\n",
    "f1_weighted = f1_score(y_test, y_pred, average='weighted')\n",
    "\n",
    "print(f\"Accuracy: {accuracy:.4f}\")\n",
    "print(f\"F1-Score (Macro): {f1_macro:.4f}\")\n",
    "print(f\"F1-Score (Weighted): {f1_weighted:.4f}\")\n",
    "\n",
    "# Detailed classification report\n",
    "print(\"\\nDetailed Classification Report:\")\n",
    "target_names = ['High', 'Low', 'Medium']  # Based on label encoding\n",
    "print(classification_report(y_test, y_pred, target_names=target_names))\n",
    "\n",
    "# Confusion Matrix\n",
    "print(\"\\nConfusion Matrix:\")\n",
    "cm = confusion_matrix(y_test, y_pred)\n",
    "print(cm)\n",
    "\n",
    "# Per-class metrics\n",
    "precision, recall, f1, support = precision_recall_fscore_support(y_test, y_pred, average=None)\n",
    "metrics_df = pd.DataFrame({\n",
    "    'Priority': target_names,\n",
    "    'Precision': precision,\n",
    "    'Recall': recall,\n",
    "    'F1-Score': f1,\n",
    "    'Support': support\n",
    "})\n",
    "print(\"\\nPer-class Performance Metrics:\")\n",
    "print(metrics_df)"
   ]
  },
  {
   "cell_type": "code",
   "execution_count": 12,
   "id": "431e7245",
   "metadata": {
    "execution": {
     "iopub.execute_input": "2025-06-19T21:52:12.277251Z",
     "iopub.status.busy": "2025-06-19T21:52:12.277032Z",
     "iopub.status.idle": "2025-06-19T21:52:12.280133Z",
     "shell.execute_reply": "2025-06-19T21:52:12.279597Z"
    },
    "papermill": {
     "duration": 0.007854,
     "end_time": "2025-06-19T21:52:12.281184",
     "exception": false,
     "start_time": "2025-06-19T21:52:12.273330",
     "status": "completed"
    },
    "tags": []
   },
   "outputs": [],
   "source": [
    "# ============================================================================\n",
    "# 6. RESULTS SUMMARY\n",
    "# ============================================================================"
   ]
  },
  {
   "cell_type": "code",
   "execution_count": 13,
   "id": "73f9b0eb",
   "metadata": {
    "execution": {
     "iopub.execute_input": "2025-06-19T21:52:12.288074Z",
     "iopub.status.busy": "2025-06-19T21:52:12.287870Z",
     "iopub.status.idle": "2025-06-19T21:52:12.297724Z",
     "shell.execute_reply": "2025-06-19T21:52:12.296905Z"
    },
    "papermill": {
     "duration": 0.014723,
     "end_time": "2025-06-19T21:52:12.298995",
     "exception": false,
     "start_time": "2025-06-19T21:52:12.284272",
     "status": "completed"
    },
    "tags": []
   },
   "outputs": [
    {
     "name": "stdout",
     "output_type": "stream",
     "text": [
      "\n",
      "6. RESULTS SUMMARY\n",
      "==================================================\n",
      "PERFORMANCE METRICS:\n",
      "• Overall Accuracy: 0.9123 (91.23%)\n",
      "• Macro F1-Score: 0.8920\n",
      "• Weighted F1-Score: 0.9140\n",
      "\n",
      "MODEL INSIGHTS:\n",
      "• Total samples processed: 569\n",
      "• Training samples: 455\n",
      "• Test samples: 114\n",
      "• Number of features used: 10\n",
      "\n",
      "PRIORITY DISTRIBUTION IN TEST SET:\n",
      "• High: 23 samples (20.2%)\n",
      "• Low: 71 samples (62.3%)\n",
      "• Medium: 20 samples (17.5%)\n",
      "\n",
      "TOP 3 MOST IMPORTANT FEATURES:\n",
      "• mean concave points: 0.2245\n",
      "• mean area: 0.1962\n",
      "• mean perimeter: 0.1899\n",
      "\n",
      "==================================================\n",
      "DELIVERABLE COMPLETED: Jupyter Notebook with Performance Metrics\n",
      "==================================================\n"
     ]
    }
   ],
   "source": [
    "print(\"\\n6. RESULTS SUMMARY\")\n",
    "print(\"=\" * 50)\n",
    "\n",
    "print(\"PERFORMANCE METRICS:\")\n",
    "print(f\"• Overall Accuracy: {accuracy:.4f} ({accuracy*100:.2f}%)\")\n",
    "print(f\"• Macro F1-Score: {f1_macro:.4f}\")\n",
    "print(f\"• Weighted F1-Score: {f1_weighted:.4f}\")\n",
    "\n",
    "print(\"\\nMODEL INSIGHTS:\")\n",
    "print(f\"• Total samples processed: {len(df)}\")\n",
    "print(f\"• Training samples: {len(X_train)}\")\n",
    "print(f\"• Test samples: {len(X_test)}\")\n",
    "print(f\"• Number of features used: {len(feature_cols)}\")\n",
    "\n",
    "print(\"\\nPRIORITY DISTRIBUTION IN TEST SET:\")\n",
    "test_priority_dist = pd.Series(y_test).value_counts().sort_index()\n",
    "for idx, count in test_priority_dist.items():\n",
    "    priority_name = target_names[idx]\n",
    "    print(f\"• {priority_name}: {count} samples ({count/len(y_test)*100:.1f}%)\")\n",
    "\n",
    "print(\"\\nTOP 3 MOST IMPORTANT FEATURES:\")\n",
    "for i, row in feature_importance.head(3).iterrows():\n",
    "    print(f\"• {row['feature']}: {row['importance']:.4f}\")\n",
    "\n",
    "print(\"\\n\" + \"=\"*50)\n",
    "print(\"DELIVERABLE COMPLETED: Jupyter Notebook with Performance Metrics\")\n",
    "print(\"=\"*50)"
   ]
  },
  {
   "cell_type": "code",
   "execution_count": 14,
   "id": "1dd42e6d",
   "metadata": {
    "execution": {
     "iopub.execute_input": "2025-06-19T21:52:12.306315Z",
     "iopub.status.busy": "2025-06-19T21:52:12.306116Z",
     "iopub.status.idle": "2025-06-19T21:52:13.652316Z",
     "shell.execute_reply": "2025-06-19T21:52:13.651483Z"
    },
    "papermill": {
     "duration": 1.353882,
     "end_time": "2025-06-19T21:52:13.656044",
     "exception": false,
     "start_time": "2025-06-19T21:52:12.302162",
     "status": "completed"
    },
    "tags": []
   },
   "outputs": [
    {
     "name": "stdout",
     "output_type": "stream",
     "text": [
      "GENERATING VISUALIZATIONS\n",
      "--------------------------------------------------\n"
     ]
    },
    {
     "data": {
      "image/png": "[encoded data removed]",
      "text/plain": [
       "<Figure size 1500x1200 with 5 Axes>"
      ]
     },
     "metadata": {},
     "output_type": "display_data"
    },
    {
     "name": "stdout",
     "output_type": "stream",
     "text": [
      "Visualizations generated successfully!\n",
      "\n",
      "Key Insights:\n",
      "1. Priority distribution shows balanced allocation across categories\n",
      "2. High priority cases are predominantly malignant diagnoses\n",
      "3. Feature correlations help identify redundant measurements\n",
      "4. Box plots reveal clear separation between priority levels\n"
     ]
    }
   ],
   "source": [
    "# Set style\n",
    "plt.style.use('default')\n",
    "sns.set_palette(\"husl\")\n",
    "\n",
    "print(\"GENERATING VISUALIZATIONS\")\n",
    "print(\"-\" * 50)\n",
    "\n",
    "# Load and prepare data (same as main script)\n",
    "data = load_breast_cancer()\n",
    "df = pd.DataFrame(data.data, columns=data.feature_names)\n",
    "df['diagnosis'] = data.target\n",
    "\n",
    "# Create priority labels (same logic as main script)\n",
    "def assign_priority(row):\n",
    "    diagnosis = row['diagnosis']\n",
    "    mean_radius = row['mean radius']\n",
    "    mean_texture = row['mean texture']\n",
    "    mean_perimeter = row['mean perimeter']\n",
    "    severity_score = (mean_radius + mean_texture + mean_perimeter) / 3\n",
    "    \n",
    "    if diagnosis == 0:  # Malignant\n",
    "        if severity_score > df[['mean radius', 'mean texture', 'mean perimeter']].mean().mean() * 1.2:\n",
    "            return 'High'\n",
    "        else:\n",
    "            return 'Medium'\n",
    "    else:  # Benign\n",
    "        if severity_score > df[['mean radius', 'mean texture', 'mean perimeter']].mean().mean() * 1.1:\n",
    "            return 'Medium'\n",
    "        else:\n",
    "            return 'Low'\n",
    "\n",
    "df['priority'] = df.apply(assign_priority, axis=1)\n",
    "\n",
    "\n",
    "# Create visualizations\n",
    "fig, axes = plt.subplots(2, 2, figsize=(15, 12))\n",
    "fig.suptitle('Breast Cancer Dataset - Resource Allocation Analysis', fontsize=16, fontweight='bold')\n",
    "\n",
    "# 1. Priority Distribution\n",
    "axes[0, 0].pie(df['priority'].value_counts().values, \n",
    "               labels=df['priority'].value_counts().index,\n",
    "               autopct='%1.1f%%', startangle=90)\n",
    "axes[0, 0].set_title('Priority Distribution')\n",
    "\n",
    "# 2. Diagnosis vs Priority\n",
    "priority_diagnosis = pd.crosstab(df['priority'], df['diagnosis'])\n",
    "priority_diagnosis.plot(kind='bar', ax=axes[0, 1], color=['lightcoral', 'lightblue'])\n",
    "axes[0, 1].set_title('Priority vs Diagnosis')\n",
    "axes[0, 1].set_xlabel('Priority Level')\n",
    "axes[0, 1].set_ylabel('Count')\n",
    "axes[0, 1].legend(['Malignant', 'Benign'])\n",
    "axes[0, 1].tick_params(axis='x', rotation=45)\n",
    "\n",
    "# 3. Feature correlation heatmap (top features)\n",
    "top_features = ['mean radius', 'mean texture', 'mean perimeter', 'mean area', 'mean compactness']\n",
    "corr_matrix = df[top_features].corr()\n",
    "sns.heatmap(corr_matrix, annot=True, cmap='coolwarm', center=0, ax=axes[1, 0])\n",
    "axes[1, 0].set_title('Feature Correlation Matrix')\n",
    "\n",
    "# 4. Box plot of key features by priority\n",
    "df_melted = df[['mean radius', 'mean texture', 'mean perimeter', 'priority']].melt(\n",
    "    id_vars=['priority'], var_name='feature', value_name='value'\n",
    ")\n",
    "sns.boxplot(data=df_melted, x='priority', y='value', hue='feature', ax=axes[1, 1])\n",
    "axes[1, 1].set_title('Key Features by Priority Level')\n",
    "axes[1, 1].tick_params(axis='x', rotation=45)\n",
    "\n",
    "plt.tight_layout()\n",
    "plt.show()\n",
    "\n",
    "print(\"Visualizations generated successfully!\")\n",
    "print(\"\\nKey Insights:\")\n",
    "print(\"1. Priority distribution shows balanced allocation across categories\")\n",
    "print(\"2. High priority cases are predominantly malignant diagnoses\")\n",
    "print(\"3. Feature correlations help identify redundant measurements\")\n",
    "print(\"4. Box plots reveal clear separation between priority levels\")"
   ]
  },
  {
   "cell_type": "code",
   "execution_count": 15,
   "id": "e11d3bec",
   "metadata": {
    "execution": {
     "iopub.execute_input": "2025-06-19T21:52:13.668163Z",
     "iopub.status.busy": "2025-06-19T21:52:13.667920Z",
     "iopub.status.idle": "2025-06-19T21:52:18.092202Z",
     "shell.execute_reply": "2025-06-19T21:52:18.090524Z"
    },
    "papermill": {
     "duration": 4.432242,
     "end_time": "2025-06-19T21:52:18.093951",
     "exception": false,
     "start_time": "2025-06-19T21:52:13.661709",
     "status": "completed"
    },
    "tags": []
   },
   "outputs": [
    {
     "name": "stdout",
     "output_type": "stream",
     "text": [
      "MODEL COMPARISON FOR RESOURCE ALLOCATION PREDICTION\n",
      "------------------------------------------------------------\n",
      "\n",
      "Training Random Forest...\n",
      "Accuracy: 0.9123\n",
      "F1-Score (Macro): 0.8883\n",
      "CV Score: 0.9187 (+/- 0.0298)\n",
      "\n",
      "Training Gradient Boosting...\n",
      "Accuracy: 0.9298\n",
      "F1-Score (Macro): 0.9175\n",
      "CV Score: 0.9099 (+/- 0.0469)\n",
      "\n",
      "Training SVM...\n",
      "Accuracy: 0.9386\n",
      "F1-Score (Macro): 0.9208\n",
      "CV Score: 0.9253 (+/- 0.0164)\n",
      "\n",
      "Training Logistic Regression...\n",
      "Accuracy: 0.9211\n",
      "F1-Score (Macro): 0.9086\n",
      "CV Score: 0.9319 (+/- 0.0215)\n",
      "\n",
      "============================================================\n",
      "MODEL COMPARISON RESULTS\n",
      "============================================================\n",
      "              Model  Accuracy  F1_Macro  F1_Weighted  CV_Mean  CV_Std\n",
      "                SVM    0.9386    0.9208       0.9367   0.9253  0.0082\n",
      "  Gradient Boosting    0.9298    0.9175       0.9310   0.9099  0.0235\n",
      "Logistic Regression    0.9211    0.9086       0.9230   0.9319  0.0108\n",
      "      Random Forest    0.9123    0.8883       0.9125   0.9187  0.0149\n",
      "\n",
      "Best performing model: SVM\n",
      "Best F1-Score (Macro): 0.9208\n",
      "\n",
      "RECOMMENDATION:\n",
      "Use SVM for production deployment\n",
      "Consider ensemble methods for improved robustness\n"
     ]
    }
   ],
   "source": [
    "print(\"MODEL COMPARISON FOR RESOURCE ALLOCATION PREDICTION\")\n",
    "print(\"-\" * 60)\n",
    "\n",
    "# Assuming X_train_scaled, X_test_scaled, y_train, y_test are available from main script\n",
    "# This would be run after the main preprocessing\n",
    "\n",
    "models = {\n",
    "    'Random Forest': RandomForestClassifier(n_estimators=100, random_state=42),\n",
    "    'Gradient Boosting': GradientBoostingClassifier(n_estimators=100, random_state=42),\n",
    "    'SVM': SVC(kernel='rbf', random_state=42),\n",
    "    'Logistic Regression': LogisticRegression(random_state=42, max_iter=1000)\n",
    "}\n",
    "\n",
    "results = []\n",
    "\n",
    "for name, model in models.items():\n",
    "    print(f\"\\nTraining {name}...\")\n",
    "    \n",
    "    # Train model\n",
    "    model.fit(X_train_scaled, y_train)\n",
    "    \n",
    "    # Predictions\n",
    "    y_pred = model.predict(X_test_scaled)\n",
    "    \n",
    "    # Metrics\n",
    "    accuracy = accuracy_score(y_test, y_pred)\n",
    "    f1_macro = f1_score(y_test, y_pred, average='macro')\n",
    "    f1_weighted = f1_score(y_test, y_pred, average='weighted')\n",
    "    \n",
    "    # Cross-validation\n",
    "    cv_scores = cross_val_score(model, X_train_scaled, y_train, cv=5, scoring='accuracy')\n",
    "    \n",
    "    results.append({\n",
    "        'Model': name,\n",
    "        'Accuracy': accuracy,\n",
    "        'F1_Macro': f1_macro,\n",
    "        'F1_Weighted': f1_weighted,\n",
    "        'CV_Mean': cv_scores.mean(),\n",
    "        'CV_Std': cv_scores.std()\n",
    "    })\n",
    "    \n",
    "    print(f\"Accuracy: {accuracy:.4f}\")\n",
    "    print(f\"F1-Score (Macro): {f1_macro:.4f}\")\n",
    "    print(f\"CV Score: {cv_scores.mean():.4f} (+/- {cv_scores.std()*2:.4f})\")\n",
    "\n",
    "# Results summary\n",
    "results_df = pd.DataFrame(results)\n",
    "results_df = results_df.sort_values('F1_Macro', ascending=False)\n",
    "\n",
    "print(\"\\n\" + \"=\"*60)\n",
    "print(\"MODEL COMPARISON RESULTS\")\n",
    "print(\"=\"*60)\n",
    "print(results_df.to_string(index=False, float_format='%.4f'))\n",
    "\n",
    "best_model = results_df.iloc[0]['Model']\n",
    "print(f\"\\nBest performing model: {best_model}\")\n",
    "print(f\"Best F1-Score (Macro): {results_df.iloc[0]['F1_Macro']:.4f}\")\n",
    "\n",
    "print(\"\\nRECOMMENDATION:\")\n",
    "print(f\"Use {best_model} for production deployment\")\n",
    "print(\"Consider ensemble methods for improved robustness\")"
   ]
  }
 ],
 "metadata": {
  "kaggle": {
   "accelerator": "gpu",
   "dataSources": [
    {
     "databundleVersionId": 8003195,
     "sourceId": 72815,
     "sourceType": "competition"
    }
   ],
   "dockerImageVersionId": 31041,
   "isGpuEnabled": true,
   "isInternetEnabled": true,
   "language": "python",
   "sourceType": "notebook"
  },
  "kernelspec": {
   "display_name": "Python 3",
   "language": "python",
   "name": "python3"
  },
  "language_info": {
   "codemirror_mode": {
    "name": "ipython",
    "version": 3
   },
   "file_extension": ".py",
   "mimetype": "text/x-python",
   "name": "python",
   "nbconvert_exporter": "python",
   "pygments_lexer": "ipython3",
   "version": "3.11.11"
  },
  "papermill": {
   "default_parameters": {},
   "duration": 15.910733,
   "end_time": "2025-06-19T21:52:18.823430",
   "environment_variables": {},
   "exception": null,
   "input_path": "__notebook__.ipynb",
   "output_path": "__notebook__.ipynb",
   "parameters": {},
   "start_time": "2025-06-19T21:52:02.912697",
   "version": "2.6.0"
  }
 },
 "nbformat": 4,
 "nbformat_minor": 5
}
